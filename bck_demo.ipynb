{
 "cells": [
  {
   "cell_type": "code",
   "execution_count": 2,
   "metadata": {},
   "outputs": [
    {
     "output_type": "stream",
     "name": "stdout",
     "text": "2020-06-07 17:01:54,485 - dev - INFO - Added Node: {\n  \"name\": \"Finney\",\n  \"weight\": 9\n}\n2020-06-07 17:01:54,486 - dev - INFO - Added Node: {\n  \"name\": \"Back\",\n  \"weight\": 5\n}\n2020-06-07 17:01:54,487 - dev - INFO - Added Node: {\n  \"name\": \"Nakamoto\",\n  \"weight\": 8\n}\n2020-06-07 17:01:54,488 - dev - INFO - Added Node: {\n  \"name\": \"Wei\",\n  \"weight\": 4\n}\n2020-06-07 17:01:54,488 - dev - INFO - Added Node: {\n  \"name\": \"Szabo\",\n  \"weight\": 7\n}\n2020-06-07 17:01:54,505 - dev - DEBUG - Block:#0 - Miner:Back - Hashes Tried:313 - Mining Time:0.015625\n2020-06-07 17:01:54,506 - dev - INFO - Added Block: {\n  \"data\": \"Hey! I'm block #0\",\n  \"difficulty\": 2,\n  \"hash\": \"009a61d1bd28861976a95250fdd9a69924896464aec8c66a64fb1943c3afbddd\",\n  \"hash_merkle_root\": \"8ae9ea8f3e72d12d9c8f2158c9de66e7d627ba7ef2c10442fa560e8df15e887d\",\n  \"hash_previous_block\": \"0000000000000000000000000000000000000000000000000000000000000000\",\n  \"height\": 0,\n  \"nonce\": \"97452667091959183403\",\n  \"time\": 1591542114489539200\n}\n2020-06-07 17:01:54,519 - dev - DEBUG - Block:#1 - Miner:Szabo - Hashes Tried:211 - Mining Time:0.015625\n2020-06-07 17:01:54,520 - dev - INFO - Added Block: {\n  \"data\": \"Hey! I'm block #1\",\n  \"difficulty\": 2,\n  \"hash\": \"00af9174b7afa7e5a3eaf1094905513128c6a105be532ad875f13854c224dd18\",\n  \"hash_merkle_root\": \"c7a5877669f8a2c1748152796bc614f47a9383255d17710b8de50ec8f6c4fd29\",\n  \"hash_previous_block\": \"009a61d1bd28861976a95250fdd9a69924896464aec8c66a64fb1943c3afbddd\",\n  \"height\": 1,\n  \"nonce\": \"79110692010903852514\",\n  \"time\": 1591542114507491000\n}\n2020-06-07 17:01:54,538 - dev - DEBUG - Block:#2 - Miner:Finney - Hashes Tried:323 - Mining Time:0.015625\n2020-06-07 17:01:54,538 - dev - INFO - Added Block: {\n  \"data\": \"Hey! I'm block #2\",\n  \"difficulty\": 2,\n  \"hash\": \"008dfe6c4c3ebb3aa6102455e339a4a29c58a3368c9471c0ef3c8a536834a004\",\n  \"hash_merkle_root\": \"389bf4f1c95e205d07a794a8c4a7f449bca7225f89b74cba092b16a5d30aba68\",\n  \"hash_previous_block\": \"00af9174b7afa7e5a3eaf1094905513128c6a105be532ad875f13854c224dd18\",\n  \"height\": 2,\n  \"nonce\": \"47963141084621604070\",\n  \"time\": 1591542114521453800\n}\n2020-06-07 17:01:54,566 - dev - DEBUG - Block:#3 - Miner:Nakamoto - Hashes Tried:567 - Mining Time:0.03125\n2020-06-07 17:01:54,567 - dev - INFO - Added Block: {\n  \"data\": \"Hey! I'm block #3\",\n  \"difficulty\": 2,\n  \"hash\": \"0047edca282a620da4d5aa8930d7c7d692271ef4f5bf76ec8721a32ab55041b6\",\n  \"hash_merkle_root\": \"32974cf9dbb294e7426acb5f54e2cd6e139009bc446aa08e232e09466d998640\",\n  \"hash_previous_block\": \"008dfe6c4c3ebb3aa6102455e339a4a29c58a3368c9471c0ef3c8a536834a004\",\n  \"height\": 3,\n  \"nonce\": \"23242404264214149936\",\n  \"time\": 1591542114540403400\n}\n2020-06-07 17:01:54,573 - dev - DEBUG - Block:#4 - Miner:Nakamoto - Hashes Tried:111 - Mining Time:0.0\n2020-06-07 17:01:54,574 - dev - INFO - Added Block: {\n  \"data\": \"Hey! I'm block #4\",\n  \"difficulty\": 2,\n  \"hash\": \"0007931a6db42653533375ac1e826a98fb0529976f34d9149e404fcbf1238830\",\n  \"hash_merkle_root\": \"ee79f9ff68908be04c59f86a19397cfbd58f774531fbb8408c1e6cfce8a30976\",\n  \"hash_previous_block\": \"0047edca282a620da4d5aa8930d7c7d692271ef4f5bf76ec8721a32ab55041b6\",\n  \"height\": 4,\n  \"nonce\": \"95280216323179067891\",\n  \"time\": 1591542114568329600\n}\n2020-06-07 17:01:54,577 - dev - DEBUG - Block:#5 - Miner:Szabo - Hashes Tried:13 - Mining Time:0.0\n2020-06-07 17:01:54,579 - dev - INFO - Added Block: {\n  \"data\": \"Hey! I'm block #5\",\n  \"difficulty\": 2,\n  \"hash\": \"003854c7fe201358054dd5156b94707109840aed52e38e1bcc5d2d5383982488\",\n  \"hash_merkle_root\": \"826464c337128e5ad385fb254a60ff46d77dc9e10d60abfa6c710afda4c0dc13\",\n  \"hash_previous_block\": \"0007931a6db42653533375ac1e826a98fb0529976f34d9149e404fcbf1238830\",\n  \"height\": 5,\n  \"nonce\": \"48418731059480161869\",\n  \"time\": 1591542114576308100\n}\n"
    }
   ],
   "source": [
    "from backend.core.blockchain import Blockchain\n",
    "\n",
    "\n",
    "def main():\n",
    "    blk = Blockchain(difficulty=2)\n",
    "\n",
    "    blk.add_node(\"Finney\", 9)\n",
    "    blk.add_node(\"Back\", 5)\n",
    "    blk.add_node(\"Nakamoto\", 8)\n",
    "    blk.add_node(\"Wei\", 4)\n",
    "    blk.add_node(\"Szabo\", 7)\n",
    "\n",
    "    blk.mine_genesis()\n",
    "\n",
    "    num_blocks = 5\n",
    "    for _ in range(0, num_blocks):\n",
    "        blk.mine_block()\n",
    "\n",
    "\n",
    "if __name__ == \"__main__\":\n",
    "    main()\n"
   ]
  },
  {
   "cell_type": "code",
   "execution_count": null,
   "metadata": {},
   "outputs": [],
   "source": []
  }
 ],
 "metadata": {
  "kernelspec": {
   "display_name": "Python 3",
   "language": "python",
   "name": "python3"
  },
  "language_info": {
   "codemirror_mode": {
    "name": "ipython",
    "version": 3
   },
   "file_extension": ".py",
   "mimetype": "text/x-python",
   "name": "python",
   "nbconvert_exporter": "python",
   "pygments_lexer": "ipython3",
   "version": "3.8.3-candidate"
  }
 },
 "nbformat": 4,
 "nbformat_minor": 4
}
{
 "cells": [
  {
   "cell_type": "code",
   "execution_count": 1,
   "metadata": {},
   "outputs": [
    {
     "output_type": "stream",
     "name": "stdout",
     "text": "2020-05-21 23:20:09,228 - dev - INFO - Added Node: {\n  \"name\": \"Finney\",\n  \"weight\": 9\n}\n2020-05-21 23:20:09,229 - dev - INFO - Added Node: {\n  \"name\": \"Back\",\n  \"weight\": 5\n}\n2020-05-21 23:20:09,230 - dev - INFO - Added Node: {\n  \"name\": \"Nakamoto\",\n  \"weight\": 8\n}\n2020-05-21 23:20:09,230 - dev - INFO - Added Node: {\n  \"name\": \"Szabo\",\n  \"weight\": 7\n}\n2020-05-21 23:20:09,231 - dev - INFO - Added Node: {\n  \"name\": \"Wei\",\n  \"weight\": 4\n}\n2020-05-21 23:20:17,257 - dev - DEBUG - Block:#1 - Miner:Finney - Hashes Tried:184680 - Mining Time:7.765625\n2020-05-21 23:20:17,258 - dev - INFO - Added Block: {\n  \"data\": \"Hey! I'm block #1\",\n  \"difficulty\": 4,\n  \"hash\": \"000019aac64d0a02eb407ca038a8733793ac437e7305bd1aa66686e948d43c6e\",\n  \"hash_merkle_root\": \"c7a5877669f8a2c1748152796bc614f47a9383255d17710b8de50ec8f6c4fd29\",\n  \"hash_previous_block\": \"9ff12fa876de52b471bd9757c270eddac11dde151cfe2714322ad0a446a83c13\",\n  \"height\": 1,\n  \"nonce\": \"13465934579817604376\",\n  \"time\": \"2020-05-21 23:20:09.232611\"\n}\n2020-05-21 23:20:17,483 - dev - DEBUG - Block:#2 - Miner:Finney - Hashes Tried:5304 - Mining Time:0.21875\n2020-05-21 23:20:17,484 - dev - INFO - Added Block: {\n  \"data\": \"Hey! I'm block #2\",\n  \"difficulty\": 4,\n  \"hash\": \"00001840f8aa1fe6523c796f270dc353c86bff23e673f3908c50d995ebf31c6d\",\n  \"hash_merkle_root\": \"389bf4f1c95e205d07a794a8c4a7f449bca7225f89b74cba092b16a5d30aba68\",\n  \"hash_previous_block\": \"000019aac64d0a02eb407ca038a8733793ac437e7305bd1aa66686e948d43c6e\",\n  \"height\": 2,\n  \"nonce\": \"78533975888931782976\",\n  \"time\": \"2020-05-21 23:20:17.259914\"\n}\n2020-05-21 23:20:18,064 - dev - DEBUG - Block:#3 - Miner:Back - Hashes Tried:13681 - Mining Time:0.5625\n2020-05-21 23:20:18,064 - dev - INFO - Added Block: {\n  \"data\": \"Hey! I'm block #3\",\n  \"difficulty\": 4,\n  \"hash\": \"0000a8627986bda2815cffd23bc3959cbe1f7c1e7bb21cc5ba111a091e59a639\",\n  \"hash_merkle_root\": \"32974cf9dbb294e7426acb5f54e2cd6e139009bc446aa08e232e09466d998640\",\n  \"hash_previous_block\": \"00001840f8aa1fe6523c796f270dc353c86bff23e673f3908c50d995ebf31c6d\",\n  \"height\": 3,\n  \"nonce\": \"52554837340166908997\",\n  \"time\": \"2020-05-21 23:20:17.484427\"\n}\n2020-05-21 23:20:21,141 - dev - DEBUG - Block:#4 - Miner:Nakamoto - Hashes Tried:72202 - Mining Time:3.03125\n2020-05-21 23:20:21,142 - dev - INFO - Added Block: {\n  \"data\": \"Hey! I'm block #4\",\n  \"difficulty\": 4,\n  \"hash\": \"0000eea64a3728c5ed8137fce78cb021846addb42a75a74ef8f63d9bddd95152\",\n  \"hash_merkle_root\": \"ee79f9ff68908be04c59f86a19397cfbd58f774531fbb8408c1e6cfce8a30976\",\n  \"hash_previous_block\": \"0000a8627986bda2815cffd23bc3959cbe1f7c1e7bb21cc5ba111a091e59a639\",\n  \"height\": 4,\n  \"nonce\": \"58367335049179877484\",\n  \"time\": \"2020-05-21 23:20:18.065886\"\n}\n2020-05-21 23:20:28,034 - dev - DEBUG - Block:#5 - Miner:Szabo - Hashes Tried:158615 - Mining Time:6.796875\n2020-05-21 23:20:28,034 - dev - INFO - Added Block: {\n  \"data\": \"Hey! I'm block #5\",\n  \"difficulty\": 4,\n  \"hash\": \"00007d25776f9c4b071be3c8dcec6d313894b3c54aa26ebc7a354aa0e78a9e3d\",\n  \"hash_merkle_root\": \"826464c337128e5ad385fb254a60ff46d77dc9e10d60abfa6c710afda4c0dc13\",\n  \"hash_previous_block\": \"0000eea64a3728c5ed8137fce78cb021846addb42a75a74ef8f63d9bddd95152\",\n  \"height\": 5,\n  \"nonce\": \"44276565742639953102\",\n  \"time\": \"2020-05-21 23:20:21.143532\"\n}\n2020-05-21 23:20:36,259 - dev - DEBUG - Block:#6 - Miner:Finney - Hashes Tried:184403 - Mining Time:8.0625\n2020-05-21 23:20:36,260 - dev - INFO - Added Block: {\n  \"data\": \"Hey! I'm block #6\",\n  \"difficulty\": 4,\n  \"hash\": \"000064361d381531b3d01a694fd60186679a1afbded3069178232eb9d08bdd39\",\n  \"hash_merkle_root\": \"63a187ecf41b32a91b74285c877d535123654be583a772bee6b6d39dcc18e427\",\n  \"hash_previous_block\": \"00007d25776f9c4b071be3c8dcec6d313894b3c54aa26ebc7a354aa0e78a9e3d\",\n  \"height\": 6,\n  \"nonce\": \"02892810488615113537\",\n  \"time\": \"2020-05-21 23:20:28.035670\"\n}\n2020-05-21 23:20:38,878 - dev - DEBUG - Block:#7 - Miner:Szabo - Hashes Tried:60174 - Mining Time:2.59375\n2020-05-21 23:20:38,879 - dev - INFO - Added Block: {\n  \"data\": \"Hey! I'm block #7\",\n  \"difficulty\": 4,\n  \"hash\": \"00007a5d335d0a6e10a026d6396109017df263f97bdf9d9adad73ebbf1f19e47\",\n  \"hash_merkle_root\": \"73ebcc083ee24b516cf465f5e92257d9aeb008fe9f1bcd0790c27b4b1d86171a\",\n  \"hash_previous_block\": \"000064361d381531b3d01a694fd60186679a1afbded3069178232eb9d08bdd39\",\n  \"height\": 7,\n  \"nonce\": \"08056682998324720317\",\n  \"time\": \"2020-05-21 23:20:36.260143\"\n}\n2020-05-21 23:20:40,450 - dev - DEBUG - Block:#8 - Miner:Nakamoto - Hashes Tried:33597 - Mining Time:1.53125\n2020-05-21 23:20:40,453 - dev - INFO - Added Block: {\n  \"data\": \"Hey! I'm block #8\",\n  \"difficulty\": 4,\n  \"hash\": \"00001b96aeae910fbf921f95e88a95e97bd1d0ac77999de5291f90b35d43cbfc\",\n  \"hash_merkle_root\": \"5d137c9ebc99ef05b4fbbb7f8dd3fcef29f1e4e201edaa7463b467437a85dfad\",\n  \"hash_previous_block\": \"00007a5d335d0a6e10a026d6396109017df263f97bdf9d9adad73ebbf1f19e47\",\n  \"height\": 8,\n  \"nonce\": \"21435847835147991451\",\n  \"time\": \"2020-05-21 23:20:38.880273\"\n}\n2020-05-21 23:20:40,523 - dev - DEBUG - Block:#9 - Miner:Finney - Hashes Tried:1490 - Mining Time:0.078125\n2020-05-21 23:20:40,524 - dev - INFO - Added Block: {\n  \"data\": \"Hey! I'm block #9\",\n  \"difficulty\": 4,\n  \"hash\": \"000042082e30927d2b2fa5e3cd928ba00e9cfc85faccb46272dd3b55480ef27b\",\n  \"hash_merkle_root\": \"fbef4473c35d8795d822f816640f41e7403e9fc09c124556b6b0763ef933946f\",\n  \"hash_previous_block\": \"00001b96aeae910fbf921f95e88a95e97bd1d0ac77999de5291f90b35d43cbfc\",\n  \"height\": 9,\n  \"nonce\": \"02514891835067205364\",\n  \"time\": \"2020-05-21 23:20:40.454142\"\n}\n2020-05-21 23:20:44,442 - dev - DEBUG - Block:#10 - Miner:Nakamoto - Hashes Tried:87057 - Mining Time:3.859375\n2020-05-21 23:20:44,443 - dev - INFO - Added Block: {\n  \"data\": \"Hey! I'm block #10\",\n  \"difficulty\": 4,\n  \"hash\": \"0000e04455808b274430f1176bd90a510b1a782d0b18ee118d340181ccae8e8d\",\n  \"hash_merkle_root\": \"31e09c5183c60fa042e5ef1ab2a7b6325062773a7b61b57dde2c0a62c989a6e6\",\n  \"hash_previous_block\": \"000042082e30927d2b2fa5e3cd928ba00e9cfc85faccb46272dd3b55480ef27b\",\n  \"height\": 10,\n  \"nonce\": \"31296924133315046401\",\n  \"time\": \"2020-05-21 23:20:40.525873\"\n}\n"
    }
   ],
   "source": [
    "from backend.core.blockchain import Blockchain\n",
    "\n",
    "\n",
    "def main():\n",
    "    blk = Blockchain(difficulty=4)\n",
    "\n",
    "    blk.add_node(\"Finney\", 9)\n",
    "    blk.add_node(\"Back\", 5)\n",
    "    blk.add_node(\"Nakamoto\", 8)\n",
    "    blk.add_node(\"Wei\", 4)\n",
    "    blk.add_node(\"Szabo\", 7)\n",
    "\n",
    "    num_blocks = 5\n",
    "    for _ in range(0, num_blocks):\n",
    "        blk.mine_block()\n",
    "\n",
    "\n",
    "if __name__ == \"__main__\":\n",
    "    main()\n"
   ]
  },
  {
   "cell_type": "code",
   "execution_count": null,
   "metadata": {},
   "outputs": [],
   "source": []
  }
 ],
 "metadata": {
  "kernelspec": {
   "display_name": "Python 3",
   "language": "python",
   "name": "python3"
  },
  "language_info": {
   "codemirror_mode": {
    "name": "ipython",
    "version": 3
   },
   "file_extension": ".py",
   "mimetype": "text/x-python",
   "name": "python",
   "nbconvert_exporter": "python",
   "pygments_lexer": "ipython3",
   "version": "3.8.3-candidate"
  }
 },
 "nbformat": 4,
 "nbformat_minor": 4
}
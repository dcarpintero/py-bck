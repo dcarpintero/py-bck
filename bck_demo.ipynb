{
 "cells": [
  {
   "cell_type": "code",
   "execution_count": 1,
   "metadata": {},
   "outputs": [
    {
     "output_type": "stream",
     "name": "stdout",
     "text": "2020-06-07 16:53:02,792 - dev - INFO - Added Node: {\n  \"name\": \"Finney\",\n  \"weight\": 9\n}\n2020-06-07 16:53:02,794 - dev - INFO - Added Node: {\n  \"name\": \"Back\",\n  \"weight\": 5\n}\n2020-06-07 16:53:02,795 - dev - INFO - Added Node: {\n  \"name\": \"Nakamoto\",\n  \"weight\": 8\n}\n2020-06-07 16:53:02,795 - dev - INFO - Added Node: {\n  \"name\": \"Wei\",\n  \"weight\": 4\n}\n2020-06-07 16:53:02,796 - dev - INFO - Added Node: {\n  \"name\": \"Szabo\",\n  \"weight\": 7\n}\n2020-06-07 16:53:05,662 - dev - DEBUG - Block:#0 - Miner:Back - Hashes Tried:64666 - Mining Time:2.609375\n2020-06-07 16:53:05,663 - dev - INFO - Added Block: {\n  \"data\": \"Hey! I'm block #0\",\n  \"difficulty\": 4,\n  \"hash\": \"0000d66ed7409d6fdb72f89140fe76036582b2b4c097d8ea1e772bfa77700539\",\n  \"hash_merkle_root\": \"8ae9ea8f3e72d12d9c8f2158c9de66e7d627ba7ef2c10442fa560e8df15e887d\",\n  \"hash_previous_block\": \"0000000000000000000000000000000000000000000000000000000000000000\",\n  \"height\": 0,\n  \"nonce\": \"82330091431994427109\",\n  \"time\": 1591541582797553700\n}\n2020-06-07 16:53:06,112 - dev - DEBUG - Block:#1 - Miner:Finney - Hashes Tried:10958 - Mining Time:0.453125\n2020-06-07 16:53:06,112 - dev - INFO - Added Block: {\n  \"data\": \"Hey! I'm block #1\",\n  \"difficulty\": 4,\n  \"hash\": \"0000cc5ff5f04987da7c4a6adc657857fcbb71b61771de1a332aebe68339a5e4\",\n  \"hash_merkle_root\": \"c7a5877669f8a2c1748152796bc614f47a9383255d17710b8de50ec8f6c4fd29\",\n  \"hash_previous_block\": \"0000d66ed7409d6fdb72f89140fe76036582b2b4c097d8ea1e772bfa77700539\",\n  \"height\": 1,\n  \"nonce\": \"84879020476389914287\",\n  \"time\": 1591541585664670400\n}\n2020-06-07 16:53:08,056 - dev - DEBUG - Block:#2 - Miner:Finney - Hashes Tried:47354 - Mining Time:1.90625\n2020-06-07 16:53:08,057 - dev - INFO - Added Block: {\n  \"data\": \"Hey! I'm block #2\",\n  \"difficulty\": 4,\n  \"hash\": \"0000510a9a3fcc64bce0848d916e3e6122bed7dd69fbcfd14fcd6372c4bb07a4\",\n  \"hash_merkle_root\": \"389bf4f1c95e205d07a794a8c4a7f449bca7225f89b74cba092b16a5d30aba68\",\n  \"hash_previous_block\": \"0000cc5ff5f04987da7c4a6adc657857fcbb71b61771de1a332aebe68339a5e4\",\n  \"height\": 2,\n  \"nonce\": \"38065607915840669867\",\n  \"time\": 1591541586113422300\n}\n2020-06-07 16:53:13,283 - dev - DEBUG - Block:#3 - Miner:Szabo - Hashes Tried:131370 - Mining Time:5.109375\n2020-06-07 16:53:13,284 - dev - INFO - Added Block: {\n  \"data\": \"Hey! I'm block #3\",\n  \"difficulty\": 4,\n  \"hash\": \"0000a82d6cead86393f9caa411ccc526030368366cfb8e3b7407498e251baf45\",\n  \"hash_merkle_root\": \"32974cf9dbb294e7426acb5f54e2cd6e139009bc446aa08e232e09466d998640\",\n  \"hash_previous_block\": \"0000510a9a3fcc64bce0848d916e3e6122bed7dd69fbcfd14fcd6372c4bb07a4\",\n  \"height\": 3,\n  \"nonce\": \"03869081854670141828\",\n  \"time\": 1591541588058050400\n}\n2020-06-07 16:53:14,103 - dev - DEBUG - Block:#4 - Miner:Finney - Hashes Tried:20114 - Mining Time:0.796875\n2020-06-07 16:53:14,104 - dev - INFO - Added Block: {\n  \"data\": \"Hey! I'm block #4\",\n  \"difficulty\": 4,\n  \"hash\": \"0000c7a0e16b780f1507c4d59c409d96a5fded00f4174d54b1c1fcfd2bac02f9\",\n  \"hash_merkle_root\": \"ee79f9ff68908be04c59f86a19397cfbd58f774531fbb8408c1e6cfce8a30976\",\n  \"hash_previous_block\": \"0000a82d6cead86393f9caa411ccc526030368366cfb8e3b7407498e251baf45\",\n  \"height\": 4,\n  \"nonce\": \"89126415389731553047\",\n  \"time\": 1591541593284111600\n}\n2020-06-07 16:53:15,933 - dev - DEBUG - Block:#5 - Miner:Nakamoto - Hashes Tried:44952 - Mining Time:1.71875\n2020-06-07 16:53:15,934 - dev - INFO - Added Block: {\n  \"data\": \"Hey! I'm block #5\",\n  \"difficulty\": 4,\n  \"hash\": \"00004e03399d1082ec79a26dd89281898881ccd7f629ce8dd7d7572dcfb2d7b4\",\n  \"hash_merkle_root\": \"826464c337128e5ad385fb254a60ff46d77dc9e10d60abfa6c710afda4c0dc13\",\n  \"hash_previous_block\": \"0000c7a0e16b780f1507c4d59c409d96a5fded00f4174d54b1c1fcfd2bac02f9\",\n  \"height\": 5,\n  \"nonce\": \"51939446545591896683\",\n  \"time\": 1591541594105192800\n}\n"
    }
   ],
   "source": [
    "from backend.core.blockchain import Blockchain\n",
    "\n",
    "\n",
    "def main():\n",
    "    blk = Blockchain(difficulty=2)\n",
    "\n",
    "    blk.add_node(\"Finney\", 9)\n",
    "    blk.add_node(\"Back\", 5)\n",
    "    blk.add_node(\"Nakamoto\", 8)\n",
    "    blk.add_node(\"Wei\", 4)\n",
    "    blk.add_node(\"Szabo\", 7)\n",
    "\n",
    "    blk.mine_genesis()\n",
    "\n",
    "    num_blocks = 5\n",
    "    for _ in range(0, num_blocks):\n",
    "        blk.mine_block()\n",
    "\n",
    "\n",
    "if __name__ == \"__main__\":\n",
    "    main()\n"
   ]
  },
  {
   "cell_type": "code",
   "execution_count": null,
   "metadata": {},
   "outputs": [],
   "source": []
  }
 ],
 "metadata": {
  "kernelspec": {
   "display_name": "Python 3",
   "language": "python",
   "name": "python3"
  },
  "language_info": {
   "codemirror_mode": {
    "name": "ipython",
    "version": 3
   },
   "file_extension": ".py",
   "mimetype": "text/x-python",
   "name": "python",
   "nbconvert_exporter": "python",
   "pygments_lexer": "ipython3",
   "version": "3.8.3-candidate"
  }
 },
 "nbformat": 4,
 "nbformat_minor": 4
}
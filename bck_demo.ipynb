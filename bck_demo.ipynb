{
 "cells": [
  {
   "cell_type": "code",
   "execution_count": null,
   "metadata": {},
   "outputs": [],
   "source": [
    "from backend.core.blockchain import Blockchain\n",
    "\n",
    "\n",
    "def main():\n",
    "    blk = Blockchain(difficulty=2)\n",
    "\n",
    "    blk.add_node(\"Finney\", 9)\n",
    "    blk.add_node(\"Back\", 5)\n",
    "    blk.add_node(\"Nakamoto\", 8)\n",
    "    blk.add_node(\"Wei\", 4)\n",
    "    blk.add_node(\"Szabo\", 7)\n",
    "\n",
    "    blk.mine_genesis()\n",
    "\n",
    "    num_blocks = 5\n",
    "    for _ in range(0, num_blocks):\n",
    "        blk.mine_block()\n",
    "\n",
    "\n",
    "if __name__ == \"__main__\":\n",
    "    main()\n"
   ]
  },
  {
   "cell_type": "code",
   "execution_count": null,
   "metadata": {},
   "outputs": [],
   "source": []
  }
 ],
 "metadata": {
  "kernelspec": {
   "display_name": "Python 3",
   "language": "python",
   "name": "python3"
  },
  "language_info": {
   "codemirror_mode": {
    "name": "ipython",
    "version": 3
   },
   "file_extension": ".py",
   "mimetype": "text/x-python",
   "name": "python",
   "nbconvert_exporter": "python",
   "pygments_lexer": "ipython3",
   "version": "3.8.3-candidate"
  }
 },
 "nbformat": 4,
 "nbformat_minor": 4
}